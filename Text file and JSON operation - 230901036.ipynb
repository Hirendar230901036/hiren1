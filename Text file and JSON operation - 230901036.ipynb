{
 "cells": [
  {
   "cell_type": "code",
   "execution_count": 4,
   "id": "001109a0",
   "metadata": {},
   "outputs": [],
   "source": [
    "f=open(\"/Users/student/Downloads/Hiraa.txt\",\"w\")\n",
    "f.write(\"wakeup early\\n\")\n",
    "f.write(\"Read daily\\n\")\n",
    "f.write(\"Be Punctual\\n\")\n",
    "f.close()"
   ]
  },
  {
   "cell_type": "code",
   "execution_count": 14,
   "id": "2f6918a5",
   "metadata": {},
   "outputs": [
    {
     "name": "stdout",
     "output_type": "stream",
     "text": [
      "wakeup early\n",
      "\n",
      "Read daily\n",
      "\n",
      "Be Punctual\n",
      "\n"
     ]
    }
   ],
   "source": [
    "a=open(\"/Users/student/Downloads/Hiraa.txt\",\"r\")\n",
    "print(a.readline())\n",
    "print(a.readline())\n",
    "print(a.readline())\n",
    "\n",
    "a.close()"
   ]
  },
  {
   "cell_type": "code",
   "execution_count": 24,
   "id": "ca8328e1",
   "metadata": {},
   "outputs": [],
   "source": [
    "b=open(\"/Users/student/Downloads/Hiraa.txt\",\"a\")\n",
    "b.write(\"BAVANI\\n\")\n",
    "b.write(\"RITHIKA\\n\")\n",
    "b.close()"
   ]
  },
  {
   "cell_type": "code",
   "execution_count": 26,
   "id": "6d81c725",
   "metadata": {},
   "outputs": [
    {
     "name": "stdout",
     "output_type": "stream",
     "text": [
      "wakeup early\n",
      "Read daily\n",
      "Be Punctual\n",
      "BAVANI\n",
      "RITHIKA\n",
      "\n",
      "\n"
     ]
    }
   ],
   "source": [
    "c=open(\"/Users/student/Downloads/Hiraa.txt\",\"r\")\n",
    "print(c.read())\n",
    "c.close()"
   ]
  },
  {
   "cell_type": "code",
   "execution_count": 27,
   "id": "20ab56c2",
   "metadata": {},
   "outputs": [
    {
     "name": "stdout",
     "output_type": "stream",
     "text": [
      "['wakeup early\\n', 'Read daily\\n', 'Be Punctual\\n', 'BAVANI\\n', 'RITHIKA\\n', '\\n']\n"
     ]
    }
   ],
   "source": [
    "with open(\"/Users/student/Downloads/Hiraa.txt\",\"r\")as file:\n",
    "    lines=file.readlines()\n",
    "    print(lines)"
   ]
  },
  {
   "cell_type": "code",
   "execution_count": 30,
   "id": "fc62c2f0",
   "metadata": {},
   "outputs": [
    {
     "name": "stdout",
     "output_type": "stream",
     "text": [
      "{'name': 'Sundar', 'age': 25, 'city': 'Delhi'}\n",
      "Delhi\n",
      "\"{\\\"name\\\":\\\"Sundar\\\",\\\"age\\\":25,\\\"city\\\":\\\"Delhi\\\"}\"\n"
     ]
    }
   ],
   "source": [
    "import json\n",
    "X='{\"name\":\"Sundar\",\"age\":25,\"city\":\"Delhi\"}'\n",
    "Y=json.loads(X)\n",
    "print(Y)\n",
    "print(Y[\"city\"])\n",
    "Z=json.dumps(X)\n",
    "print(Z)"
   ]
  },
  {
   "cell_type": "code",
   "execution_count": 1,
   "id": "748abf91",
   "metadata": {},
   "outputs": [
    {
     "name": "stdout",
     "output_type": "stream",
     "text": [
      "Mumbai\n"
     ]
    }
   ],
   "source": [
    "import json\n",
    "X='{\"Name\":\"Sundar\",\"age\":25,\"City\":\"Mumbai\"}'\n",
    "Y=json.loads(X)\n",
    "print(Y[\"City\"])"
   ]
  },
  {
   "cell_type": "code",
   "execution_count": 3,
   "id": "2e63b9c1",
   "metadata": {},
   "outputs": [
    {
     "name": "stdout",
     "output_type": "stream",
     "text": [
      "{\"name\": \"Sundar\", \"age\": 25, \"City\": \"Mumbai\"}\n"
     ]
    }
   ],
   "source": [
    "X={\"name\":\"Sundar\",\n",
    "  \"age\":25,\n",
    "  \"City\":\"Mumbai\"}\n",
    "Y=json.dumps(X)\n",
    "print(Y)"
   ]
  },
  {
   "cell_type": "code",
   "execution_count": null,
   "id": "a72c196f",
   "metadata": {},
   "outputs": [],
   "source": [
    "#thus the text file has been created and json operation has been performed"
   ]
  }
 ],
 "metadata": {
  "kernelspec": {
   "display_name": "Python 3 (ipykernel)",
   "language": "python",
   "name": "python3"
  },
  "language_info": {
   "codemirror_mode": {
    "name": "ipython",
    "version": 3
   },
   "file_extension": ".py",
   "mimetype": "text/x-python",
   "name": "python",
   "nbconvert_exporter": "python",
   "pygments_lexer": "ipython3",
   "version": "3.11.5"
  }
 },
 "nbformat": 4,
 "nbformat_minor": 5
}
