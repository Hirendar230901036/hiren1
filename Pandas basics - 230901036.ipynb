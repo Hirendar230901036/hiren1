{
 "cells": [
  {
   "cell_type": "code",
   "execution_count": 1,
   "id": "d30dd98b",
   "metadata": {},
   "outputs": [
    {
     "name": "stdout",
     "output_type": "stream",
     "text": [
      "Empty DataFrame\n",
      "Columns: []\n",
      "Index: []\n"
     ]
    }
   ],
   "source": [
    "#creating empty dataframe\n",
    "import pandas as pd\n",
    "df=pd.DataFrame()\n",
    "print(df)"
   ]
  },
  {
   "cell_type": "code",
   "execution_count": 5,
   "id": "aaac6eff",
   "metadata": {},
   "outputs": [
    {
     "name": "stdout",
     "output_type": "stream",
     "text": [
      "\n",
      "Series to data frame\n",
      "\n",
      "      Emp  ID\n",
      "0     Uma  10\n",
      "1    Siva  20\n",
      "2  Sindhu  30\n",
      "3    Ravi  40\n",
      "\n",
      "extracting one column\n",
      "\n",
      "0       Uma\n",
      "1      Siva\n",
      "2    Sindhu\n",
      "3      Ravi\n",
      "Name: Emp, dtype: object\n"
     ]
    }
   ],
   "source": [
    "#conversion of series to dataframe\n",
    "emp=pd.Series(['Uma','Siva','Sindhu','Ravi'])\n",
    "id=pd.Series([10,20,30,40])\n",
    "frame={'Emp':emp,'ID':id}\n",
    "result=pd.DataFrame(frame)\n",
    "print(\"\\nSeries to data frame\\n\")\n",
    "print(result)\n",
    "#extracting one column\n",
    "print(\"\\nextracting one column\\n\")\n",
    "print(result['Emp'])"
   ]
  },
  {
   "cell_type": "code",
   "execution_count": 9,
   "id": "24cf8fbd",
   "metadata": {},
   "outputs": [
    {
     "name": "stdout",
     "output_type": "stream",
     "text": [
      "      Emp  ID  Age\n",
      "0     Uma  10   20\n",
      "1    Siva  20   25\n",
      "2  Sindhu  30   30\n",
      "3    Ravi  40   50\n"
     ]
    }
   ],
   "source": [
    "#adding new column\n",
    "result['Age']=pd.Series([20,25,30,50])\n",
    "print(result)\n"
   ]
  },
  {
   "cell_type": "code",
   "execution_count": 8,
   "id": "15be13dd",
   "metadata": {},
   "outputs": [
    {
     "name": "stdout",
     "output_type": "stream",
     "text": [
      "      Emp  ID\n",
      "0     Uma  10\n",
      "1    Siva  20\n",
      "2  Sindhu  30\n",
      "3    Ravi  40\n"
     ]
    }
   ],
   "source": [
    "#delete an existing column\n",
    "del result['Age']\n",
    "print(result)"
   ]
  },
  {
   "cell_type": "code",
   "execution_count": 10,
   "id": "fbba5fa3",
   "metadata": {},
   "outputs": [
    {
     "name": "stdout",
     "output_type": "stream",
     "text": [
      "\n",
      "Extracting the second row:\n",
      "\n",
      "Emp    Siva\n",
      "ID       20\n",
      "Age      25\n",
      "Name: 1, dtype: object\n"
     ]
    }
   ],
   "source": [
    "#extracting rows\n",
    "print(\"\\nExtracting the second row:\\n\")\n",
    "print(result.loc[1])\n"
   ]
  },
  {
   "cell_type": "code",
   "execution_count": 11,
   "id": "0b037138",
   "metadata": {},
   "outputs": [
    {
     "name": "stdout",
     "output_type": "stream",
     "text": [
      "Slice rows:\n",
      "       Emp  ID  Age\n",
      "1    Siva  20   25\n",
      "2  Sindhu  30   30\n"
     ]
    }
   ],
   "source": [
    "#slicing of rows\n",
    "print(\"Slice rows:\\n\",result[1:3])\n"
   ]
  },
  {
   "cell_type": "code",
   "execution_count": 15,
   "id": "1938928c",
   "metadata": {},
   "outputs": [
    {
     "name": "stdout",
     "output_type": "stream",
     "text": [
      "\n",
      "Adding new row values:\n",
      "       Emp  ID   Age\n",
      "0     Uma  10  20.0\n",
      "1    Siva  20  25.0\n",
      "2  Sindhu  30  30.0\n",
      "3    Ravi  40  50.0\n",
      "0     Anu  20   NaN\n",
      "1    Jinu  19   NaN\n"
     ]
    }
   ],
   "source": [
    "#concatenation\n",
    "d2=pd.DataFrame([['Anu',20],['Jinu',19]],columns=['Emp','ID'])\n",
    "print(\"\\nAdding new row values:\\n\",pd.concat([result,d2]))"
   ]
  },
  {
   "cell_type": "code",
   "execution_count": 8,
   "id": "1744b912",
   "metadata": {},
   "outputs": [
    {
     "name": "stdout",
     "output_type": "stream",
     "text": [
      "\\Deleting an existing row:\n",
      "\n",
      "    Emp  ID\n",
      "0   Uma  10\n",
      "1  Siva  20\n",
      "3  Ravi  40\n"
     ]
    }
   ],
   "source": [
    "#deleting existing row\n",
    "import pandas as pd\n",
    "emp=pd.Series(['Uma','Siva','Sindhu','Ravi'])\n",
    "id=pd.Series([10,20,30,40])\n",
    "frame={'Emp':emp,'ID':id}\n",
    "result=pd.DataFrame(frame)\n",
    "print(\"\\Deleting an existing row:\\n\")\n",
    "print(result.drop(2))"
   ]
  },
  {
   "cell_type": "code",
   "execution_count": 9,
   "id": "69bec939",
   "metadata": {},
   "outputs": [
    {
     "name": "stdout",
     "output_type": "stream",
     "text": [
      "\n",
      "Extracting second row\n",
      "\n",
      "Emp    Siva\n",
      "ID       20\n",
      "Name: 1, dtype: object\n"
     ]
    }
   ],
   "source": [
    "print(\"\\nExtracting second row\\n\")\n",
    "print(result.loc[1])"
   ]
  },
  {
   "cell_type": "code",
   "execution_count": null,
   "id": "079c7983",
   "metadata": {},
   "outputs": [],
   "source": []
  }
 ],
 "metadata": {
  "kernelspec": {
   "display_name": "Python 3 (ipykernel)",
   "language": "python",
   "name": "python3"
  },
  "language_info": {
   "codemirror_mode": {
    "name": "ipython",
    "version": 3
   },
   "file_extension": ".py",
   "mimetype": "text/x-python",
   "name": "python",
   "nbconvert_exporter": "python",
   "pygments_lexer": "ipython3",
   "version": "3.11.5"
  }
 },
 "nbformat": 4,
 "nbformat_minor": 5
}
