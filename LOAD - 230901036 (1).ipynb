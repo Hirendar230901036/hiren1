{
 "cells": [
  {
   "cell_type": "code",
   "execution_count": 8,
   "id": "880b67af",
   "metadata": {},
   "outputs": [
    {
     "name": "stdout",
     "output_type": "stream",
     "text": [
      "    S.NO FIRST NAME  GENDER LOGIN TIME    SALARY  BONUS(%)      TEAM(DEPT)\n",
      "0      1       Arun    Male     8:00 AM  35000.0      20.0        Accounts\n",
      "1      2      Saran    Male     9:00 AM  50000.0      10.0         Finance\n",
      "2      3      Nitin    Male     8:00 AM  30000.0      15.0        Accounts\n",
      "3      4   Nandhini  Female     8:00 AM  45000.0      13.0  Administration\n",
      "4      5     Harsha    Male     9:00 AM  50000.0      20.0         Finance\n",
      "..   ...        ...     ...         ...      ...       ...             ...\n",
      "64    66        NaN     NaN         NaN      NaN       NaN             NaN\n",
      "65    67        NaN     NaN         NaN      NaN       NaN             NaN\n",
      "66    68        NaN     NaN         NaN      NaN       NaN             NaN\n",
      "67    69        NaN     NaN         NaN      NaN       NaN             NaN\n",
      "68    70        NaN     NaN         NaN      NaN       NaN             NaN\n",
      "\n",
      "[69 rows x 7 columns]\n"
     ]
    }
   ],
   "source": [
    "import pandas as pd\n",
    "d=pd.read_csv(\"/Users/student/Downloads/230901036 - Sample Sheet - Sheet1.csv\")\n",
    "print(d)"
   ]
  },
  {
   "cell_type": "code",
   "execution_count": 39,
   "id": "0518db40",
   "metadata": {},
   "outputs": [
    {
     "name": "stdout",
     "output_type": "stream",
     "text": [
      "Columns Index(['S.NO', 'FIRST NAME', 'GENDER', 'LOGIN TIME ', 'SALARY', 'BONUS(%)',\n",
      "       'TEAM(DEPT)'],\n",
      "      dtype='object')\n",
      "(69, 7)\n"
     ]
    }
   ],
   "source": [
    "df=pd.DataFrame(d)\n",
    "print(\"Columns\",df.columns)\n",
    "print(df.shape)"
   ]
  },
  {
   "cell_type": "code",
   "execution_count": 25,
   "id": "41f17b99",
   "metadata": {},
   "outputs": [
    {
     "name": "stdout",
     "output_type": "stream",
     "text": [
      "   S.NO FIRST NAME  GENDER LOGIN TIME    SALARY  BONUS(%)      TEAM(DEPT)\n",
      "5     6    Shruthi  Female     9:30 AM  61000.0      21.0              HR\n",
      "6     7   Narmadha  Female     9:00 AM  40000.0      10.0  Administration\n",
      "7     8    Nandhan    Male     8:00 AM  30000.0      15.0        Accounts\n",
      "8     9     Keshav    Male     8:00 AM  30000.0      15.0        Accounts\n",
      "9    10     Madhav    Male     8:00 AM  30000.0      15.0        Accounts\n"
     ]
    }
   ],
   "source": [
    "import pandas as pd\n",
    "d=pd.read_csv(\"/Users/student/Downloads/230901036 - Sample Sheet - Sheet1.csv\")\n",
    "print(df[5:10])"
   ]
  },
  {
   "cell_type": "code",
   "execution_count": 22,
   "id": "a9d25cf7",
   "metadata": {},
   "outputs": [
    {
     "name": "stdout",
     "output_type": "stream",
     "text": [
      "Particular Person details S.NO                  3\n",
      "FIRST NAME        Nitin\n",
      "GENDER             Male\n",
      "LOGIN TIME      8:00 AM\n",
      "SALARY          30000.0\n",
      "BONUS(%)           15.0\n",
      "TEAM(DEPT)     Accounts\n",
      "Name: 2, dtype: object\n"
     ]
    }
   ],
   "source": [
    "print(\"Particular Person details\",d.loc[2])"
   ]
  },
  {
   "cell_type": "code",
   "execution_count": 17,
   "id": "7f8300af",
   "metadata": {},
   "outputs": [
    {
     "name": "stdout",
     "output_type": "stream",
     "text": [
      "   S.NO FIRST NAME GENDER LOGIN TIME    SALARY  BONUS(%) TEAM(DEPT)\n",
      "1     2      Saran   Male     9:00 AM  50000.0      10.0    Finance\n",
      "4     5     Harsha   Male     9:00 AM  50000.0      20.0    Finance\n"
     ]
    }
   ],
   "source": [
    "import pandas as pd\n",
    "d=pd.read_csv(\"/Users/student/Downloads/230901036 - Sample Sheet - Sheet1.csv\")\n",
    "print(d.loc[d['SALARY']==50000])"
   ]
  },
  {
   "cell_type": "code",
   "execution_count": 18,
   "id": "16db36d3",
   "metadata": {},
   "outputs": [
    {
     "name": "stdout",
     "output_type": "stream",
     "text": [
      "Team 0           Accounts\n",
      "1            Finance\n",
      "2           Accounts\n",
      "3     Administration\n",
      "4            Finance\n",
      "           ...      \n",
      "64               NaN\n",
      "65               NaN\n",
      "66               NaN\n",
      "67               NaN\n",
      "68               NaN\n",
      "Name: TEAM(DEPT), Length: 69, dtype: object\n"
     ]
    }
   ],
   "source": [
    "print(\"Team\",d['TEAM(DEPT)'])"
   ]
  },
  {
   "cell_type": "code",
   "execution_count": 19,
   "id": "881bbb8c",
   "metadata": {},
   "outputs": [
    {
     "name": "stdout",
     "output_type": "stream",
     "text": [
      "0     35.0\n",
      "1     50.0\n",
      "2     30.0\n",
      "3     45.0\n",
      "4     50.0\n",
      "      ... \n",
      "64     NaN\n",
      "65     NaN\n",
      "66     NaN\n",
      "67     NaN\n",
      "68     NaN\n",
      "Name: SALARY, Length: 69, dtype: float64\n"
     ]
    }
   ],
   "source": [
    "import pandas as pd\n",
    "d=pd.read_csv(\"/Users/student/Downloads/230901036 - Sample Sheet - Sheet1.csv\")\n",
    "df=d['SALARY']/1000\n",
    "print(df)\n"
   ]
  },
  {
   "cell_type": "code",
   "execution_count": null,
   "id": "82482229",
   "metadata": {},
   "outputs": [],
   "source": []
  },
  {
   "cell_type": "code",
   "execution_count": null,
   "id": "81d6555e",
   "metadata": {},
   "outputs": [],
   "source": []
  }
 ],
 "metadata": {
  "kernelspec": {
   "display_name": "Python 3 (ipykernel)",
   "language": "python",
   "name": "python3"
  },
  "language_info": {
   "codemirror_mode": {
    "name": "ipython",
    "version": 3
   },
   "file_extension": ".py",
   "mimetype": "text/x-python",
   "name": "python",
   "nbconvert_exporter": "python",
   "pygments_lexer": "ipython3",
   "version": "3.11.5"
  }
 },
 "nbformat": 4,
 "nbformat_minor": 5
}
