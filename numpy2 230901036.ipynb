{
 "cells": [
  {
   "cell_type": "code",
   "execution_count": 11,
   "id": "4dc571a2",
   "metadata": {},
   "outputs": [
    {
     "name": "stdout",
     "output_type": "stream",
     "text": [
      "[3 5 7 9]\n",
      "[3 4 5 6]\n"
     ]
    }
   ],
   "source": [
    "#slicing\n",
    "import numpy as np\n",
    "a=np.array([1,2,3,4,5,6,7,8,9])\n",
    "b=a[2:9:2]\n",
    "c=a[2:6]\n",
    "print(b)\n",
    "print(c)"
   ]
  },
  {
   "cell_type": "code",
   "execution_count": 14,
   "id": "7ff66d5a",
   "metadata": {},
   "outputs": [
    {
     "name": "stdout",
     "output_type": "stream",
     "text": [
      "[9 8 7 6 5 4 3 2 1]\n",
      "[9 6]\n"
     ]
    }
   ],
   "source": [
    "#reversing the array\n",
    "d=a[::-1]\n",
    "e=a[9:2:-3]\n",
    "print(d)\n",
    "print(e)"
   ]
  },
  {
   "cell_type": "code",
   "execution_count": 28,
   "id": "570ef573",
   "metadata": {},
   "outputs": [
    {
     "name": "stdout",
     "output_type": "stream",
     "text": [
      "[[1 2 3]\n",
      " [4 5 6]\n",
      " [7 8 9]]\n",
      "[[2 3]\n",
      " [5 6]]\n"
     ]
    }
   ],
   "source": [
    "#slicing multidimensional aray\n",
    "arr=np.array([[1,2,3],[4,5,6],[7,8,9]])\n",
    "sarr=arr[0:2,1:3]\n",
    "print(arr)\n",
    "print(sarr)"
   ]
  },
  {
   "cell_type": "code",
   "execution_count": 31,
   "id": "1b3fcda8",
   "metadata": {},
   "outputs": [
    {
     "name": "stdout",
     "output_type": "stream",
     "text": [
      "[1 4 7]\n"
     ]
    }
   ],
   "source": [
    "#extracting first column\n",
    "col=arr[:,0]\n",
    "print(col)"
   ]
  },
  {
   "cell_type": "code",
   "execution_count": 32,
   "id": "c3f28730",
   "metadata": {},
   "outputs": [
    {
     "name": "stdout",
     "output_type": "stream",
     "text": [
      "[1 2 3]\n"
     ]
    }
   ],
   "source": [
    "#extracting first row\n",
    "col2=arr[0,:]\n",
    "print(col2)"
   ]
  },
  {
   "cell_type": "code",
   "execution_count": 33,
   "id": "e4a48166",
   "metadata": {},
   "outputs": [
    {
     "name": "stdout",
     "output_type": "stream",
     "text": [
      "[[1 2 3]\n",
      " [4 5 6]]\n"
     ]
    }
   ],
   "source": [
    "#extracting every other rows\n",
    "col3=arr[0:2:1]\n",
    "print(col3)"
   ]
  },
  {
   "cell_type": "code",
   "execution_count": 34,
   "id": "578c6c94",
   "metadata": {},
   "outputs": [
    {
     "name": "stdout",
     "output_type": "stream",
     "text": [
      "10\n",
      "50\n"
     ]
    }
   ],
   "source": [
    "#array indexing\n",
    "#single dimensional\n",
    "import numpy as np\n",
    "import array\n",
    "arr=array.array('i',[10,20,30,40,50,])\n",
    "print(arr[0])\n",
    "print(arr[4])\n"
   ]
  },
  {
   "cell_type": "code",
   "execution_count": 50,
   "id": "cf6e89a9",
   "metadata": {},
   "outputs": [
    {
     "name": "stdout",
     "output_type": "stream",
     "text": [
      "1\n",
      "7\n"
     ]
    }
   ],
   "source": [
    "#array indexing\n",
    "#multidimensional array\n",
    "import numpy as np\n",
    "arr1=np.array([[1,2,3],[4,5,6],[7,8,9]])\n",
    "print(arr1[0,0])\n",
    "print(arr1[2,0])"
   ]
  },
  {
   "cell_type": "code",
   "execution_count": 55,
   "id": "4ea437d6",
   "metadata": {},
   "outputs": [
    {
     "name": "stdout",
     "output_type": "stream",
     "text": [
      "20\n"
     ]
    }
   ],
   "source": [
    "#basic indexing\n",
    "arr2=[10,20,30,40,50]\n",
    "print(arr2[1])"
   ]
  },
  {
   "cell_type": "code",
   "execution_count": 56,
   "id": "693a57d1",
   "metadata": {},
   "outputs": [
    {
     "name": "stdout",
     "output_type": "stream",
     "text": [
      "50\n"
     ]
    }
   ],
   "source": [
    "#negative indexing\n",
    "print(arr2[-1])"
   ]
  },
  {
   "cell_type": "code",
   "execution_count": 57,
   "id": "816e9cdc",
   "metadata": {},
   "outputs": [
    {
     "name": "stdout",
     "output_type": "stream",
     "text": [
      "[20, 30]\n"
     ]
    }
   ],
   "source": [
    "#slice indexing\n",
    "print(arr2[1:3])"
   ]
  },
  {
   "cell_type": "code",
   "execution_count": 1,
   "id": "883b82ac",
   "metadata": {},
   "outputs": [],
   "source": [
    "#boolean indexing"
   ]
  },
  {
   "cell_type": "code",
   "execution_count": 2,
   "id": "c89dcb69",
   "metadata": {},
   "outputs": [
    {
     "name": "stdout",
     "output_type": "stream",
     "text": [
      "[[1 2 5 6]\n",
      " [3 4 7 8]]\n"
     ]
    }
   ],
   "source": [
    "#horizontal joining\n",
    "import numpy as np\n",
    "arr1=np.array([[1,2],[3,4]])\n",
    "arr2=np.array([[5,6],[7,8]])\n",
    "result=np.hstack((arr1,arr2))\n",
    "print(result)"
   ]
  },
  {
   "cell_type": "code",
   "execution_count": 3,
   "id": "77b0267c",
   "metadata": {},
   "outputs": [
    {
     "name": "stdout",
     "output_type": "stream",
     "text": [
      "[[1 2]\n",
      " [3 4]\n",
      " [5 6]\n",
      " [7 8]]\n"
     ]
    }
   ],
   "source": [
    "#vertical joining\n",
    "import numpy as np\n",
    "arr1=np.array([[1,2],[3,4]])\n",
    "arr2=np.array([[5,6],[7,8]])\n",
    "result=np.vstack((arr1,arr2))\n",
    "print(result)"
   ]
  },
  {
   "cell_type": "code",
   "execution_count": 4,
   "id": "cbc56d32",
   "metadata": {},
   "outputs": [
    {
     "name": "stdout",
     "output_type": "stream",
     "text": [
      "[[[1 5]\n",
      "  [2 6]]\n",
      "\n",
      " [[3 7]\n",
      "  [4 8]]]\n"
     ]
    }
   ],
   "source": [
    "#depth joining\n",
    "import numpy as np\n",
    "arr1=np.array([[1,2],[3,4]])\n",
    "arr2=np.array([[5,6],[7,8]])\n",
    "result=np.dstack((arr1,arr2))\n",
    "print(result)"
   ]
  },
  {
   "cell_type": "code",
   "execution_count": 7,
   "id": "f0fcac9b",
   "metadata": {},
   "outputs": [
    {
     "name": "stdout",
     "output_type": "stream",
     "text": [
      "[array([1, 2]), array([3, 4]), array([5, 6])]\n"
     ]
    }
   ],
   "source": [
    "#array splitting\n",
    "import numpy as np\n",
    "arr=np.array([1,2,3,4,5,6])\n",
    "result=np.split(arr,3)\n",
    "print(result)"
   ]
  },
  {
   "cell_type": "code",
   "execution_count": 9,
   "id": "9bdbdc53",
   "metadata": {},
   "outputs": [
    {
     "name": "stdout",
     "output_type": "stream",
     "text": [
      "[array([1, 2]), array([3, 4]), array([5, 6])]\n"
     ]
    }
   ],
   "source": [
    "#array splitting\n",
    "import numpy as np\n",
    "arr=np.array([1,2,3,4,5,6])\n",
    "result=np.array_split(arr,3)\n",
    "print(result)"
   ]
  },
  {
   "cell_type": "code",
   "execution_count": null,
   "id": "004d292d",
   "metadata": {},
   "outputs": [],
   "source": []
  }
 ],
 "metadata": {
  "kernelspec": {
   "display_name": "Python 3 (ipykernel)",
   "language": "python",
   "name": "python3"
  },
  "language_info": {
   "codemirror_mode": {
    "name": "ipython",
    "version": 3
   },
   "file_extension": ".py",
   "mimetype": "text/x-python",
   "name": "python",
   "nbconvert_exporter": "python",
   "pygments_lexer": "ipython3",
   "version": "3.11.5"
  }
 },
 "nbformat": 4,
 "nbformat_minor": 5
}
