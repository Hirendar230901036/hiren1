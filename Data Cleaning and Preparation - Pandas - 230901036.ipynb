{
 "cells": [
  {
   "cell_type": "code",
   "execution_count": 1,
   "id": "1f500efd",
   "metadata": {},
   "outputs": [],
   "source": []
  },
  {
   "cell_type": "code",
   "execution_count": 4,
   "id": "ecc48838",
   "metadata": {},
   "outputs": [
    {
     "name": "stdout",
     "output_type": "stream",
     "text": [
      "Original dataframe with NaN\n",
      "         one       two     three\n",
      "a  0.355029 -0.347979 -0.196719\n",
      "b -0.090379 -0.009390  1.650618\n",
      "c       NaN       NaN       NaN\n",
      "d  1.889387 -1.110500 -0.314654\n",
      "e       NaN       NaN       NaN\n",
      "f -1.576428  0.888947  0.718819\n",
      "\n",
      "\n",
      "Dropped Dataframe\n",
      "         one       two     three\n",
      "a  0.355029 -0.347979 -0.196719\n",
      "b -0.090379 -0.009390  1.650618\n",
      "d  1.889387 -1.110500 -0.314654\n",
      "f -1.576428  0.888947  0.718819\n",
      "\n",
      "\n"
     ]
    }
   ],
   "source": [
    "import pandas as pd\n",
    "import numpy as np\n",
    "df=pd.DataFrame(np.random.randn(4,3),index=['a','b','d','f'],columns=['one','two','three'])\n",
    "df=df.reindex(['a','b','c','d','e','f'])\n",
    "print(\"Original dataframe with NaN\\n\",df)\n",
    "print(\"\\n\")\n",
    "print(\"Dropped Dataframe\\n\",df.dropna())\n",
    "print(\"\\n\")"
   ]
  },
  {
   "cell_type": "code",
   "execution_count": 19,
   "id": "5fcb5dcd",
   "metadata": {},
   "outputs": [
    {
     "name": "stdout",
     "output_type": "stream",
     "text": [
      "Original datframe with NaN\n",
      "         one       two     three\n",
      "a -1.281934  1.038418 -1.719435\n",
      "b -0.093235  0.049836 -1.649014\n",
      "c       NaN       NaN       NaN\n",
      "d -0.911583 -0.712988 -0.932835\n",
      "e       NaN       NaN       NaN\n",
      "f -0.435381  2.850481  1.145406\n",
      "\n",
      "\n",
      "NaN replaced with '0':\n",
      "\n",
      "        one       two     three\n",
      "a -1.281934  1.038418 -1.719435\n",
      "b -0.093235  0.049836 -1.649014\n",
      "c  0.000000  0.000000  0.000000\n",
      "d -0.911583 -0.712988 -0.932835\n",
      "e  0.000000  0.000000  0.000000\n",
      "f -0.435381  2.850481  1.145406\n",
      "\n",
      "\n"
     ]
    }
   ],
   "source": [
    "import pandas as pd\n",
    "import numpy as np\n",
    "df=pd.DataFrame(np.random.randn(4,3),index=['a','b','d','f'],columns=['one','two','three'])\n",
    "df=df.reindex(['a','b','c','d','e','f'])\n",
    "print(\"Original datframe with NaN\\n\",df)\n",
    "print(\"\\n\")\n",
    "print(\"NaN replaced with '0':\\n\")\n",
    "print(df.fillna(0))\n",
    "print(\"\\n\")\n"
   ]
  },
  {
   "cell_type": "code",
   "execution_count": 21,
   "id": "b7f43cc0",
   "metadata": {},
   "outputs": [
    {
     "name": "stdout",
     "output_type": "stream",
     "text": [
      "Original datframe with NaN\n",
      "         one       two     three\n",
      "a -0.077842  0.584018 -1.125269\n",
      "b  0.979660 -2.615049  2.500218\n",
      "c       NaN       NaN       NaN\n",
      "d  0.108191  0.647649  0.187886\n",
      "e       NaN       NaN       NaN\n",
      "f -2.201108 -2.694627  0.100143\n",
      "\n",
      "\n",
      "Nan-with true fill:\n",
      "\n",
      "a    False\n",
      "b    False\n",
      "c     True\n",
      "d    False\n",
      "e     True\n",
      "f    False\n",
      "Name: one, dtype: bool\n"
     ]
    }
   ],
   "source": [
    "import pandas as pd\n",
    "import numpy as np\n",
    "df=pd.DataFrame(np.random.randn(4,3),index=['a','b','d','f'],columns=['one','two','three'])\n",
    "df=df.reindex(['a','b','c','d','e','f'])\n",
    "print(\"Original datframe with NaN\\n\",df)\n",
    "print(\"\\n\")\n",
    "print(\"Nan-with true fill:\\n\")\n",
    "print(df['one'].isnull())"
   ]
  },
  {
   "cell_type": "code",
   "execution_count": 22,
   "id": "cdb5c297",
   "metadata": {},
   "outputs": [
    {
     "name": "stdout",
     "output_type": "stream",
     "text": [
      "Original datframe with NaN\n",
      "         one       two     three\n",
      "a  0.344517 -0.964414 -2.447446\n",
      "b -1.314654  0.821877  0.925547\n",
      "c       NaN       NaN       NaN\n",
      "d -0.025185 -0.791337 -0.791703\n",
      "e       NaN       NaN       NaN\n",
      "f  0.422135  0.215640 -1.437041\n",
      "\n",
      "NaN filled with background values:\n",
      "\n",
      "        one       two     three\n",
      "a  0.344517 -0.964414 -2.447446\n",
      "b -1.314654  0.821877  0.925547\n",
      "c -0.025185 -0.791337 -0.791703\n",
      "d -0.025185 -0.791337 -0.791703\n",
      "e  0.422135  0.215640 -1.437041\n",
      "f  0.422135  0.215640 -1.437041\n"
     ]
    }
   ],
   "source": [
    "import pandas as pd\n",
    "import numpy as np\n",
    "df=pd.DataFrame(np.random.randn(4,3),index=['a','b','d','f'],columns=['one','two','three'])\n",
    "df=df.reindex(['a','b','c','d','e','f'])\n",
    "print(\"Original datframe with NaN\\n\",df)\n",
    "print(\"\\nNaN filled with background values:\\n\")\n",
    "print(df.fillna(method='bfill'))"
   ]
  },
  {
   "cell_type": "code",
   "execution_count": 23,
   "id": "fd01d060",
   "metadata": {},
   "outputs": [
    {
     "name": "stdout",
     "output_type": "stream",
     "text": [
      "Original datframe with NaN\n",
      "         one       two     three\n",
      "a  1.681834 -0.069600 -0.728766\n",
      "b  1.286145  0.441613 -1.871699\n",
      "c       NaN       NaN       NaN\n",
      "d -0.083922 -0.714414  0.622704\n",
      "e       NaN       NaN       NaN\n",
      "f -0.047740  1.904974 -0.574404\n",
      "\n",
      "NaN filled with background values:\n",
      "\n",
      "        one       two     three\n",
      "a  1.681834 -0.069600 -0.728766\n",
      "b  1.286145  0.441613 -1.871699\n",
      "c  1.286145  0.441613 -1.871699\n",
      "d -0.083922 -0.714414  0.622704\n",
      "e -0.083922 -0.714414  0.622704\n",
      "f -0.047740  1.904974 -0.574404\n"
     ]
    }
   ],
   "source": [
    "import pandas as pd\n",
    "import numpy as np\n",
    "df=pd.DataFrame(np.random.randn(4,3),index=['a','b','d','f'],columns=['one','two','three'])\n",
    "df=df.reindex(['a','b','c','d','e','f'])\n",
    "print(\"Original datframe with NaN\\n\",df)\n",
    "print(\"\\nNaN filled with background values:\\n\")\n",
    "print(df.fillna(method='ffill'))"
   ]
  },
  {
   "cell_type": "code",
   "execution_count": 26,
   "id": "c0795c10",
   "metadata": {},
   "outputs": [
    {
     "name": "stdout",
     "output_type": "stream",
     "text": [
      "Original dataframe:\n",
      "    One  two\n",
      "0   10   60\n",
      "1   20   70\n",
      "2   30   80\n",
      "3   40    0\n",
      "4   50  101\n",
      "\n",
      " dataframe with replaced values\n",
      ":\n",
      "   One  two\n",
      "0   10   60\n",
      "1   20   70\n",
      "2   30   80\n",
      "3   40   90\n",
      "4   50  100\n"
     ]
    }
   ],
   "source": [
    "import pandas as pd\n",
    "import numpy as np\n",
    "df=pd.DataFrame({'One':[10,20,30,40,50],'two':[60,70,80,0,101]})\n",
    "print(\"Original dataframe:\\n\",df)\n",
    "print(\"\\n dataframe with replaced values\\n:\")\n",
    "print(df.replace({101:100,0:90}))"
   ]
  },
  {
   "cell_type": "code",
   "execution_count": null,
   "id": "807ce576",
   "metadata": {},
   "outputs": [],
   "source": []
  },
  {
   "cell_type": "code",
   "execution_count": null,
   "id": "544c4287",
   "metadata": {},
   "outputs": [],
   "source": []
  }
 ],
 "metadata": {
  "kernelspec": {
   "display_name": "Python 3 (ipykernel)",
   "language": "python",
   "name": "python3"
  },
  "language_info": {
   "codemirror_mode": {
    "name": "ipython",
    "version": 3
   },
   "file_extension": ".py",
   "mimetype": "text/x-python",
   "name": "python",
   "nbconvert_exporter": "python",
   "pygments_lexer": "ipython3",
   "version": "3.11.5"
  }
 },
 "nbformat": 4,
 "nbformat_minor": 5
}
