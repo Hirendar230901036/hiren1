{
 "cells": [
  {
   "cell_type": "code",
   "execution_count": 4,
   "id": "8404dee2",
   "metadata": {},
   "outputs": [
    {
     "name": "stdout",
     "output_type": "stream",
     "text": [
      "\n",
      "Original Dataframe:\n",
      "    S   R \n",
      "0   3   9\n",
      "1   3   9\n",
      "2   3   9\n",
      "3   3   9\n",
      "\n",
      "Square Root:\n",
      "          S    R \n",
      "0  1.732051  3.0\n",
      "1  1.732051  3.0\n",
      "2  1.732051  3.0\n",
      "3  1.732051  3.0\n",
      "\n",
      "Sum of each column:\n",
      " S     12\n",
      "R     36\n",
      "dtype: int64\n",
      "\n",
      "Sum of each row:\n",
      " 0    12\n",
      "1    12\n",
      "2    12\n",
      "3    12\n",
      "dtype: int64\n"
     ]
    }
   ],
   "source": [
    "import pandas as pd\n",
    "import numpy as np\n",
    "info=pd.DataFrame([[3,9]]*4,columns=['S ','R '])  # creates column 3*4times, 9*4times\n",
    "print(\"\\nOriginal Dataframe:\\n\",info)\n",
    "print(\"\\nSquare Root:\\n\",info.apply(np.sqrt))\n",
    "print(\"\\nSum of each column:\\n\",info.apply(np.sum,axis=0))  # axis=0 refers to columns \n",
    "print(\"\\nSum of each row:\\n\",info.apply(np.sum,axis=1))     # axis=1 refers to rows\n"
   ]
  },
  {
   "cell_type": "code",
   "execution_count": 7,
   "id": "ec80ad98",
   "metadata": {},
   "outputs": [
    {
     "name": "stdout",
     "output_type": "stream",
     "text": [
      "   X  Y  Z\n",
      "0  2  4  6\n",
      "1  1  3  5\n",
      "2  5  8  7\n",
      "     X  Y  Z\n",
      "min  1  3  5\n",
      "max  5  8  7\n"
     ]
    }
   ],
   "source": [
    "import pandas as pd\n",
    "import numpy as np\n",
    "info=pd.DataFrame([[2,4,6],[1,3,5],[5,8,7]],columns=['X','Y','Z'])\n",
    "print(info)\n",
    "print(info.agg(['min','max']))"
   ]
  },
  {
   "cell_type": "code",
   "execution_count": 9,
   "id": "7e3477a2",
   "metadata": {},
   "outputs": [
    {
     "name": "stdout",
     "output_type": "stream",
     "text": [
      "  EmpName  ID\n",
      "0     Sai  88\n",
      "1     Poo  70\n",
      "Adding new column:\n",
      "   EmpName  ID  Age\n",
      "0     Sai  88   20\n",
      "1     Poo  70   18\n",
      "Adding new column:\n",
      "   EmpName  ID  Age   Sex\n",
      "0     Sai  88   20  Male\n",
      "1     Poo  70   18  Male\n"
     ]
    }
   ],
   "source": [
    "import numpy as np\n",
    "import pandas as pd\n",
    "d2=pd.DataFrame([['Sai',88],['Poo',70]],columns=['EmpName','ID'])\n",
    "print(d2)\n",
    "d2['Age']=[20,18]\n",
    "print(\"Adding new column:\\n\",d2)\n",
    "d2['Sex']=['Male','Male']\n",
    "print(\"Adding new column:\\n\",d2)"
   ]
  },
  {
   "cell_type": "markdown",
   "id": "ce10decd",
   "metadata": {},
   "source": [
    "\n"
   ]
  },
  {
   "cell_type": "code",
   "execution_count": 28,
   "id": "fdb354a2",
   "metadata": {},
   "outputs": [
    {
     "name": "stdout",
     "output_type": "stream",
     "text": [
      "  EmpName  ID\n",
      "0     Sai  88\n",
      "1     Poo  70\n",
      "Adding new column:\n",
      "   EmpName  ID  Age\n",
      "0     Sai  88   20\n",
      "1     Poo  70   18\n",
      "Adding new column:\n",
      "   EmpName  ID  Age   Sex\n",
      "0     Sai  88   20  Male\n",
      "1     Poo  70   18  Male\n"
     ]
    }
   ],
   "source": [
    "import numpy as np\n",
    "import pandas as pd\n",
    "d2=pd.DataFrame([['Sai',88],['Poo',70]],columns=['EmpName','ID'])\n",
    "print(d2)\n",
    "info=d2.assign(Age=[20,18])\n",
    "print(\"Adding new column:\\n\",info)\n",
    "info['Sex']=['Male','Male']\n",
    "print(\"Adding new column:\\n\",info)"
   ]
  },
  {
   "cell_type": "code",
   "execution_count": 24,
   "id": "70099986",
   "metadata": {},
   "outputs": [
    {
     "name": "stdout",
     "output_type": "stream",
     "text": [
      "       col3      col4\n",
      "3 -1.201127 -0.803756\n",
      "2 -0.098908 -0.654331\n",
      "0 -0.993853 -0.173473\n",
      "4  0.912726  0.029283\n",
      "1 -1.025907 -0.480565\n"
     ]
    }
   ],
   "source": [
    "#random function\n",
    "import pandas as pd\n",
    "import numpy as np\n",
    "info=pd.DataFrame(np.random.randn(5,2),index=[3,2,0,4,1],columns=['col3','col4'])\n",
    "print(info)"
   ]
  },
  {
   "cell_type": "code",
   "execution_count": 25,
   "id": "2934d277",
   "metadata": {},
   "outputs": [
    {
     "name": "stdout",
     "output_type": "stream",
     "text": [
      "       col3      col4\n",
      "0 -0.993853 -0.173473\n",
      "1 -1.025907 -0.480565\n",
      "2 -0.098908 -0.654331\n",
      "3 -1.201127 -0.803756\n",
      "4  0.912726  0.029283\n"
     ]
    }
   ],
   "source": [
    "#sort by index\n",
    "info2=info.sort_index()\n",
    "print(info2)"
   ]
  },
  {
   "cell_type": "code",
   "execution_count": 26,
   "id": "ba77573a",
   "metadata": {},
   "outputs": [
    {
     "name": "stdout",
     "output_type": "stream",
     "text": [
      "       col3      col4\n",
      "3 -1.201127 -0.803756\n",
      "1 -1.025907 -0.480565\n",
      "0 -0.993853 -0.173473\n",
      "2 -0.098908 -0.654331\n",
      "4  0.912726  0.029283\n"
     ]
    }
   ],
   "source": [
    "#sort by values\n",
    "info3=info.sort_values(by='col3')\n",
    "print(info3)"
   ]
  },
  {
   "cell_type": "code",
   "execution_count": 5,
   "id": "02e5c82e",
   "metadata": {},
   "outputs": [
    {
     "name": "stdout",
     "output_type": "stream",
     "text": [
      "   id    Name   sub\n",
      "0   1  Sanjay  sub2\n",
      "1   2   Saran  sub4\n",
      "2   3     Sam  sub3\n",
      "3   4    Ruba  sub5\n",
      "   id  Name   sub\n",
      "0   1   Sai  sub1\n",
      "1   2   Poo  sub2\n",
      "2   3  Saba  sub3\n",
      "3   4  Yuvi  sub4\n",
      "   id Name_x sub_x  Name_y sub_y\n",
      "0   1    Sai  sub1  Sanjay  sub2\n",
      "1   2    Poo  sub2   Saran  sub4\n",
      "2   3   Saba  sub3     Sam  sub3\n",
      "3   4   Yuvi  sub4    Ruba  sub5\n"
     ]
    }
   ],
   "source": [
    "import pandas as pd\n",
    "l=pd.DataFrame({'id':[1,2,3,4],'Name':['Sai','Poo','Saba','Yuvi'],'sub':['sub1','sub2','sub3','sub4']})\n",
    "r=pd.DataFrame({'id':[1,2,3,4],'Name':['Sanjay','Saran','Sam','Ruba'],'sub':['sub2','sub4','sub3','sub5']}) \n",
    "print(r)\n",
    "print(l)\n",
    "print(pd.merge(l,r,on='id'))\n",
    "                                                        "
   ]
  },
  {
   "cell_type": "code",
   "execution_count": null,
   "id": "fc2c7d94",
   "metadata": {},
   "outputs": [],
   "source": []
  }
 ],
 "metadata": {
  "kernelspec": {
   "display_name": "Python 3 (ipykernel)",
   "language": "python",
   "name": "python3"
  },
  "language_info": {
   "codemirror_mode": {
    "name": "ipython",
    "version": 3
   },
   "file_extension": ".py",
   "mimetype": "text/x-python",
   "name": "python",
   "nbconvert_exporter": "python",
   "pygments_lexer": "ipython3",
   "version": "3.11.5"
  }
 },
 "nbformat": 4,
 "nbformat_minor": 5
}
