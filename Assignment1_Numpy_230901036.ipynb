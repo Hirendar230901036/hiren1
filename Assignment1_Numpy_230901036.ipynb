{
 "cells": [
  {
   "cell_type": "code",
   "execution_count": 1,
   "id": "c9a7dfb6",
   "metadata": {},
   "outputs": [
    {
     "name": "stdout",
     "output_type": "stream",
     "text": [
      "[[0.32325616 0.18515716 0.07845358]\n",
      " [0.62123767 0.40439016 0.11112973]\n",
      " [0.98588643 0.8849145  0.09223634]\n",
      " [0.24746391 0.3112075  0.17860995]\n",
      " [0.94412364 0.09575294 0.72470261]]\n"
     ]
    }
   ],
   "source": [
    "import numpy as np\n",
    "Random=np.random.random((5,3))\n",
    "print(Random)"
   ]
  },
  {
   "cell_type": "code",
   "execution_count": 2,
   "id": "bd195dd7",
   "metadata": {},
   "outputs": [
    {
     "name": "stdout",
     "output_type": "stream",
     "text": [
      "[[0. 0. 0. 0. 0.]\n",
      " [0. 0. 0. 0. 0.]\n",
      " [0. 0. 0. 0. 0.]]\n"
     ]
    }
   ],
   "source": [
    "zeros=np.zeros((3,5))\n",
    "print(zeros)"
   ]
  },
  {
   "cell_type": "code",
   "execution_count": 3,
   "id": "09e3a4bb",
   "metadata": {},
   "outputs": [
    {
     "name": "stdout",
     "output_type": "stream",
     "text": [
      "[ 5  7  9 11 13 15 17 19 21 23 25 27 29]\n"
     ]
    }
   ],
   "source": [
    "range=np.arange(5,31,2)\n",
    "print(range)"
   ]
  },
  {
   "cell_type": "code",
   "execution_count": 4,
   "id": "54dd19ef",
   "metadata": {},
   "outputs": [
    {
     "name": "stdout",
     "output_type": "stream",
     "text": [
      "[[1 2 3]\n",
      " [2 3 4]\n",
      " [3 4 5]]\n",
      "\n",
      "Dimension of this array :  2\n",
      "\n",
      "Datatype of this array :  int64\n",
      "\n",
      "Shape of this array :  (3, 3)\n",
      "\n",
      "Flatten array :  [1 2 3 2 3 4 3 4 5]\n"
     ]
    }
   ],
   "source": [
    "import numpy as np\n",
    "arr=np.array([[1,2,3],[2,3,4],[3,4,5]])\n",
    "print(arr)\n",
    "print(\"\\nDimension of this array : \",arr.ndim)\n",
    "print(\"\\nDatatype of this array : \",arr.dtype)\n",
    "print(\"\\nShape of this array : \",arr.shape)\n",
    "print(\"\\nFlatten array : \",arr.flatten())"
   ]
  },
  {
   "cell_type": "code",
   "execution_count": null,
   "id": "b41fdfa4",
   "metadata": {},
   "outputs": [],
   "source": []
  }
 ],
 "metadata": {
  "kernelspec": {
   "display_name": "Python 3 (ipykernel)",
   "language": "python",
   "name": "python3"
  },
  "language_info": {
   "codemirror_mode": {
    "name": "ipython",
    "version": 3
   },
   "file_extension": ".py",
   "mimetype": "text/x-python",
   "name": "python",
   "nbconvert_exporter": "python",
   "pygments_lexer": "ipython3",
   "version": "3.11.5"
  }
 },
 "nbformat": 4,
 "nbformat_minor": 5
}
