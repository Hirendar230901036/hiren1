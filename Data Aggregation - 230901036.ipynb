{
 "cells": [
  {
   "cell_type": "code",
   "execution_count": 5,
   "id": "a7f81a91-05c4-4248-995d-5e91b855ff45",
   "metadata": {},
   "outputs": [
    {
     "name": "stdout",
     "output_type": "stream",
     "text": [
      "Original dataframe\n",
      "          A      B  c  D\n",
      "0      Abi    one  2  1\n",
      "1     Babu    two  1  4\n",
      "2  charles  three  5  0\n",
      "3   Darwin    one  3  4\n",
      "4      Abi    two  4  4\n",
      "5  charles  three  0  4\n",
      "6   Darwin    one  2  2\n"
     ]
    }
   ],
   "source": [
    "import pandas as pd\n",
    "import numpy as np\n",
    "df=pd.DataFrame({'A':['Abi','Babu','charles','Darwin','Abi','charles','Darwin'],\n",
    "    'B':['one','two','three','one','two','three','one'],\n",
    "    'c':np.random.randint(7,size=7),'D':np.random.randint(7,size=7)})\n",
    "print(\"Original dataframe\\n\" ,df)\n"
   ]
  },
  {
   "cell_type": "code",
   "execution_count": 6,
   "id": "a3b686f9-aaa6-43b3-aa02-14f434beb42b",
   "metadata": {},
   "outputs": [
    {
     "name": "stdout",
     "output_type": "stream",
     "text": [
      "Original dataframe\n",
      "          A      B  c  D\n",
      "0      Abi    one  2  1\n",
      "1     Babu    two  1  4\n",
      "2  charles  three  5  0\n",
      "3   Darwin    one  3  4\n",
      "4      Abi    two  4  4\n",
      "5  charles  three  0  4\n",
      "6   Darwin    one  2  2\n",
      "Grouped dataframe with one column sum\n",
      "          A      B  c  D\n",
      "0      Abi    one  2  1\n",
      "1     Babu    two  1  4\n",
      "2  charles  three  5  0\n",
      "3   Darwin    one  3  4\n",
      "4      Abi    two  4  4\n",
      "5  charles  three  0  4\n",
      "6   Darwin    one  2  2\n"
     ]
    }
   ],
   "source": [
    "import pandas as pd\n",
    "df1=df.groupby(['A','B'],as_index=False)['c'].sum()\n",
    "print(\"Original dataframe\\n\",df)\n",
    "print(\"Grouped dataframe with one column sum\\n\",df)"
   ]
  },
  {
   "cell_type": "code",
   "execution_count": 7,
   "id": "82351ed0-b431-4dc8-af7c-790f9dd2cbf7",
   "metadata": {},
   "outputs": [
    {
     "name": "stdout",
     "output_type": "stream",
     "text": [
      "Original dataframe\n",
      "          A      B  c  D\n",
      "0      Abi    one  2  1\n",
      "1     Babu    two  1  4\n",
      "2  charles  three  5  0\n",
      "3   Darwin    one  3  4\n",
      "4      Abi    two  4  4\n",
      "5  charles  three  0  4\n",
      "6   Darwin    one  2  2\n",
      "Grouped dataframe with one column sum\n",
      "          A  c\n",
      "0      Abi  6\n",
      "1     Babu  1\n",
      "2   Darwin  5\n",
      "3  charles  5\n"
     ]
    }
   ],
   "source": [
    "import pandas as pd\n",
    "df2=df.groupby(['A'],as_index=False)['c'].sum()\n",
    "print(\"Original dataframe\\n\",df)\n",
    "print(\"Grouped dataframe with one column sum\\n\",df2)"
   ]
  },
  {
   "cell_type": "code",
   "execution_count": 8,
   "id": "41cb08d3-fce5-411e-b240-fca44894bee5",
   "metadata": {},
   "outputs": [
    {
     "name": "stdout",
     "output_type": "stream",
     "text": [
      "Grouped dataframe with multiple column sum\n",
      "          A  c  D\n",
      "0      Abi  6  5\n",
      "1     Babu  1  4\n",
      "2   Darwin  5  6\n",
      "3  charles  5  4\n"
     ]
    }
   ],
   "source": [
    "import pandas as pd\n",
    "df3=df.groupby(['A'],as_index=False)[['c','D']].sum()\n",
    "print(\"Grouped dataframe with multiple column sum\\n\",df3)"
   ]
  },
  {
   "cell_type": "code",
   "execution_count": 9,
   "id": "0b6e0884-c510-4535-b8c9-635509e6089e",
   "metadata": {},
   "outputs": [
    {
     "name": "stdout",
     "output_type": "stream",
     "text": [
      "Grouped dataframe with multiple column sum\n",
      "          A      B  c  D\n",
      "0      Abi    one  2  1\n",
      "1      Abi    two  4  4\n",
      "2     Babu    two  1  4\n",
      "3   Darwin    one  5  6\n",
      "4  charles  three  5  4\n"
     ]
    }
   ],
   "source": [
    "import pandas as pd\n",
    "df4=df.groupby(['A','B'],as_index=False)[['c','D']].sum()\n",
    "print(\"Grouped dataframe with multiple column sum\\n\",df4)"
   ]
  },
  {
   "cell_type": "code",
   "execution_count": 11,
   "id": "80d5fea6-ccbd-4b1e-a7e3-16002e3ed99f",
   "metadata": {},
   "outputs": [
    {
     "name": "stdout",
     "output_type": "stream",
     "text": [
      "         Sales      Profit    \n",
      "           sum  min    sum max\n",
      "Category                      \n",
      "A          250  100     35  25\n",
      "B          330  130     45  30\n",
      "C          350  150     35  20\n"
     ]
    }
   ],
   "source": [
    "import pandas as pd\n",
    "df=pd.DataFrame({'Category':['A','B','C','A','B','C'],\n",
    "'Sales':[100,200,150,150,130,200],\n",
    "'Profit':[10,15,20,25,30,15]})\n",
    "df1 = df.groupby(\"Category\").agg({\"Sales\": ['sum', 'min'],\"Profit\": ['sum', 'max']})\n",
    "print(df1)"
   ]
  },
  {
   "cell_type": "code",
   "execution_count": null,
   "id": "a9bfb8e2-0300-4f19-b08e-2f3fc63951f9",
   "metadata": {},
   "outputs": [],
   "source": []
  }
 ],
 "metadata": {
  "kernelspec": {
   "display_name": "Python 3 (ipykernel)",
   "language": "python",
   "name": "python3"
  },
  "language_info": {
   "codemirror_mode": {
    "name": "ipython",
    "version": 3
   },
   "file_extension": ".py",
   "mimetype": "text/x-python",
   "name": "python",
   "nbconvert_exporter": "python",
   "pygments_lexer": "ipython3",
   "version": "3.12.7"
  }
 },
 "nbformat": 4,
 "nbformat_minor": 5
}
