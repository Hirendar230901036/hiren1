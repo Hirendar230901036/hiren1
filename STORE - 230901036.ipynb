{
 "cells": [
  {
   "cell_type": "code",
   "execution_count": 3,
   "id": "85b35be5",
   "metadata": {},
   "outputs": [
    {
     "name": "stdout",
     "output_type": "stream",
     "text": [
      "       a  b  c\n",
      "one    1  2  3\n",
      "two    4  5  6\n",
      "three  7  8  9\n"
     ]
    }
   ],
   "source": [
    "import pandas as pd\n",
    "df=pd.DataFrame([[1,2,3],[4,5,6],[7,8,9]],index=['one','two','three'],columns=['a','b','c'])\n",
    "print(df)"
   ]
  },
  {
   "cell_type": "code",
   "execution_count": 4,
   "id": "5ccb4423",
   "metadata": {},
   "outputs": [],
   "source": [
    "df.to_excel(\"/Users/student/Downloads/HIRAA.xlsx\")\n",
    "df.to_excel(\"/Users/student/Downloads/AJJDHK.xlsx\")"
   ]
  },
  {
   "cell_type": "code",
   "execution_count": 5,
   "id": "790118d9",
   "metadata": {},
   "outputs": [],
   "source": [
    "df=pd.DataFrame([[10,20,30],[40,50,60],[70,80,90]],index=['Four','Five','Six'],columns=['X','Y','Z'])\n",
    "df.to_excel(\"/Users/student/Downloads/AJJDHK.xlsx\",sheet_name=\"AJJDHK\")"
   ]
  },
  {
   "cell_type": "code",
   "execution_count": 6,
   "id": "ad76c246",
   "metadata": {},
   "outputs": [],
   "source": [
    "df=pd.DataFrame([[6,7],[1,2]],index=['a','b'],columns=['X','Y'])\n",
    "df.to_excel(\"/Users/student/Downloads/HIRAA.xlsx\",sheet_name=\"HIRAA\")"
   ]
  },
  {
   "cell_type": "code",
   "execution_count": 7,
   "id": "be7585cb",
   "metadata": {},
   "outputs": [],
   "source": [
    "X=pd.read_excel(\"/Users/student/Downloads/HIRAA.xlsx\")\n",
    "Y=pd.read_excel(\"/Users/student/Downloads/AJJDHK.xlsx\")\n",
    "Z=pd.concat([X,Y])\n",
    "Z.to_excel(\"/Users/student/Downloads/HAH.xlsx\")"
   ]
  },
  {
   "cell_type": "code",
   "execution_count": 10,
   "id": "c55c015b",
   "metadata": {},
   "outputs": [
    {
     "name": "stdout",
     "output_type": "stream",
     "text": [
      "  Unnamed: 0   X   Y     Z\n",
      "1          b   1   2   NaN\n",
      "0          a   6   7   NaN\n",
      "0       Four  10  20  30.0\n",
      "1       Five  40  50  60.0\n",
      "2        Six  70  80  90.0\n",
      "  Unnamed: 0   X   Y     Z\n",
      "1          b   1   2   NaN\n",
      "0          a   6   7   NaN\n",
      "0       Four  10  20  30.0\n",
      "1       Five  40  50  60.0\n",
      "2        Six  70  80  90.0\n"
     ]
    }
   ],
   "source": [
    "df=Z.sort_values([\"X\"])\n",
    "print(df)\n",
    "df.to_excel(\"/Users/student/Downloads/HAH.xlsx\")\n",
    "\n",
    "df=Z.sort_values([\"Y\"])\n",
    "print(df)\n",
    "df.to_excel(\"/Users/student/Downloads/HAH.xlsx\")"
   ]
  },
  {
   "cell_type": "code",
   "execution_count": 12,
   "id": "e1646120",
   "metadata": {},
   "outputs": [
    {
     "name": "stdout",
     "output_type": "stream",
     "text": [
      "  Unnamed: 0   X   Y   Z\n",
      "0       Four  10  20  30\n",
      "1       Five  40  50  60\n",
      "2        Six  70  80  90\n",
      "['Unnamed: 0', 'X', 'Y', 'Z']\n",
      "3\n"
     ]
    }
   ],
   "source": [
    "df=pd.read_excel(\"/Users/student/Downloads/AJJDHK.xlsx\")\n",
    "print(df)\n",
    "print(list(df))\n",
    "print(format(len(df)))"
   ]
  },
  {
   "cell_type": "code",
   "execution_count": null,
   "id": "072343b3",
   "metadata": {},
   "outputs": [],
   "source": []
  }
 ],
 "metadata": {
  "kernelspec": {
   "display_name": "Python 3 (ipykernel)",
   "language": "python",
   "name": "python3"
  },
  "language_info": {
   "codemirror_mode": {
    "name": "ipython",
    "version": 3
   },
   "file_extension": ".py",
   "mimetype": "text/x-python",
   "name": "python",
   "nbconvert_exporter": "python",
   "pygments_lexer": "ipython3",
   "version": "3.11.5"
  }
 },
 "nbformat": 4,
 "nbformat_minor": 5
}
