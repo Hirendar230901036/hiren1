{
 "cells": [
  {
   "cell_type": "code",
   "execution_count": 1,
   "id": "39b7f5cb-8afa-4c3b-9bc6-b3fd2cd86ac3",
   "metadata": {},
   "outputs": [
    {
     "name": "stdout",
     "output_type": "stream",
     "text": [
      "Date Index \n",
      " 2011-01-02   -0.773538\n",
      "2011-01-05   -0.180547\n",
      "2011-01-07    0.413942\n",
      "2011-01-08    1.140172\n",
      "2011-01-10   -1.680153\n",
      "2011-01-12    2.068526\n",
      "dtype: float64\n"
     ]
    }
   ],
   "source": [
    "import pandas as pd\n",
    "import numpy as np\n",
    "from datetime import datetime\n",
    "#create a date variable that contains the dates\n",
    "dates = [datetime(2011, 1, 2),\n",
    "datetime(2011, 1, 5),\n",
    "datetime(2011, 1, 7),\n",
    "datetime(2011, 1, 8),\n",
    "datetime(2011, 1, 10),\n",
    "datetime(2011, 1, 12)]\n",
    "#with this date object, create a series\n",
    "ts = pd.Series(np.random.randn(6), index=dates)\n",
    "print(\"Date Index \\n\",ts)"
   ]
  },
  {
   "cell_type": "code",
   "execution_count": 2,
   "id": "ae136d0c-a560-43e6-a8ea-8deaa5372ce5",
   "metadata": {},
   "outputs": [
    {
     "name": "stdout",
     "output_type": "stream",
     "text": [
      "\n",
      "Date Index alone from the series: \n",
      " DatetimeIndex(['2011-01-02', '2011-01-05', '2011-01-07', '2011-01-08',\n",
      "               '2011-01-10', '2011-01-12'],\n",
      "              dtype='datetime64[ns]', freq=None)\n"
     ]
    }
   ],
   "source": [
    "print(\"\\nDate Index alone from the series: \\n\",ts.index)"
   ]
  },
  {
   "cell_type": "code",
   "execution_count": 3,
   "id": "ba8dad48-6cbc-4fa9-8c95-194a0da9d82b",
   "metadata": {},
   "outputs": [
    {
     "name": "stdout",
     "output_type": "stream",
     "text": [
      "\n",
      "Second index:\n",
      " 2011-01-07 00:00:00\n"
     ]
    }
   ],
   "source": [
    "stamp=ts.index[2]\n",
    "print(\"\\nSecond index:\\n\", stamp)"
   ]
  },
  {
   "cell_type": "code",
   "execution_count": 4,
   "id": "de5dd878-f0e3-4ec8-82ec-bfc2f1b087a0",
   "metadata": {},
   "outputs": [
    {
     "name": "stdout",
     "output_type": "stream",
     "text": [
      "\n",
      "Daterange up to 1000 days:\n",
      " 2000-01-01   -0.466883\n",
      "2000-01-02   -0.066270\n",
      "2000-01-03    0.284305\n",
      "2000-01-04   -0.771874\n",
      "2000-01-05    0.195699\n",
      "                ...   \n",
      "2002-09-22   -0.576772\n",
      "2002-09-23   -1.074438\n",
      "2002-09-24   -1.087171\n",
      "2002-09-25   -0.120393\n",
      "2002-09-26    1.334537\n",
      "Freq: D, Length: 1000, dtype: float64\n"
     ]
    }
   ],
   "source": [
    "longer_ts=pd.Series(np.random.randn(1000),\n",
    "index=pd.date_range(\"2000-01-01\",periods=1000))\n",
    "print(\"\\nDaterange up to 1000 days:\\n\",longer_ts)"
   ]
  },
  {
   "cell_type": "code",
   "execution_count": 5,
   "id": "c251762b-749b-4b61-8efd-b5d749860c45",
   "metadata": {},
   "outputs": [
    {
     "name": "stdout",
     "output_type": "stream",
     "text": [
      "\n",
      "Date range-2001 year:\n",
      " 2001-01-01   -0.293757\n",
      "2001-01-02   -0.470177\n",
      "2001-01-03    2.574031\n",
      "2001-01-04    0.033561\n",
      "2001-01-05    1.201443\n",
      "                ...   \n",
      "2001-12-27   -0.366943\n",
      "2001-12-28    1.096144\n",
      "2001-12-29   -0.035130\n",
      "2001-12-30    0.154889\n",
      "2001-12-31    3.219150\n",
      "Freq: D, Length: 365, dtype: float64\n"
     ]
    }
   ],
   "source": [
    "print(\"\\nDate range-2001 year:\\n\", longer_ts[\"2001\"])"
   ]
  },
  {
   "cell_type": "code",
   "execution_count": 6,
   "id": "792cc550-5444-4238-8870-414bde6fc10e",
   "metadata": {},
   "outputs": [
    {
     "name": "stdout",
     "output_type": "stream",
     "text": [
      "\n",
      "Date range-05 month 2001 year:\n",
      " 2001-05-01   -0.112312\n",
      "2001-05-02   -2.137759\n",
      "2001-05-03    1.131846\n",
      "2001-05-04    0.119646\n",
      "2001-05-05    1.180157\n",
      "2001-05-06   -0.989104\n",
      "2001-05-07   -0.261496\n",
      "2001-05-08    2.341501\n",
      "2001-05-09   -1.317539\n",
      "2001-05-10    1.329323\n",
      "2001-05-11    0.709230\n",
      "2001-05-12    0.259448\n",
      "2001-05-13   -0.144135\n",
      "2001-05-14    1.065045\n",
      "2001-05-15   -1.085674\n",
      "2001-05-16   -0.699899\n",
      "2001-05-17    1.271812\n",
      "2001-05-18   -0.119207\n",
      "2001-05-19    0.142344\n",
      "2001-05-20    0.615619\n",
      "2001-05-21   -0.956973\n",
      "2001-05-22    0.233017\n",
      "2001-05-23   -0.350569\n",
      "2001-05-24    0.689087\n",
      "2001-05-25    0.468927\n",
      "2001-05-26    0.743305\n",
      "2001-05-27   -0.588202\n",
      "2001-05-28    0.343701\n",
      "2001-05-29    0.208545\n",
      "2001-05-30   -0.393459\n",
      "2001-05-31    0.103969\n",
      "Freq: D, dtype: float64\n"
     ]
    }
   ],
   "source": [
    "print(\"\\nDate range-05 month 2001 year:\\n\", longer_ts[\"2001-05\"])"
   ]
  },
  {
   "cell_type": "code",
   "execution_count": 7,
   "id": "50014995-6814-495e-a92d-f94c3d29f305",
   "metadata": {},
   "outputs": [
    {
     "name": "stdout",
     "output_type": "stream",
     "text": [
      "\n",
      "Date range-first few dates in 2000 year:\n",
      " 2000-01-01   -0.466883\n",
      "2000-01-02   -0.066270\n",
      "2000-01-03    0.284305\n",
      "2000-01-04   -0.771874\n",
      "2000-01-05    0.195699\n",
      "Freq: D, dtype: float64\n",
      "\n",
      "Date range-first 15 dates in 02 month 2001 year: 2000-02-01    0.895848\n",
      "2000-02-02    0.605407\n",
      "2000-02-03    1.349226\n",
      "2000-02-04    1.113704\n",
      "2000-02-05    0.314281\n",
      "2000-02-06    1.447571\n",
      "2000-02-07    0.627328\n",
      "2000-02-08   -1.093502\n",
      "2000-02-09   -0.747873\n",
      "2000-02-10    0.527125\n",
      "2000-02-11   -0.493515\n",
      "2000-02-12   -1.473632\n",
      "2000-02-13   -1.432366\n",
      "2000-02-14   -0.208743\n",
      "2000-02-15    0.944449\n",
      "Freq: D, dtype: float64\n"
     ]
    }
   ],
   "source": [
    "print(\"\\nDate range-first few dates in 2000 year:\\n\",longer_ts[\"2000\"].head())\n",
    "print(\"\\nDate range-first 15 dates in 02 month 2001 year:\",longer_ts[\n",
    "\"2000-02\"].head(15))"
   ]
  },
  {
   "cell_type": "code",
   "execution_count": 8,
   "id": "8665fef6-b7de-40a0-8ecf-6f683907be14",
   "metadata": {},
   "outputs": [
    {
     "name": "stdout",
     "output_type": "stream",
     "text": [
      "\n",
      "Date range-rom 26-9-2001:\n",
      " 2000-09-26   -0.009382\n",
      "2000-09-27   -1.108862\n",
      "2000-09-28    0.435444\n",
      "2000-09-29    0.907800\n",
      "2000-09-30   -0.208783\n",
      "                ...   \n",
      "2002-09-22   -0.576772\n",
      "2002-09-23   -1.074438\n",
      "2002-09-24   -1.087171\n",
      "2002-09-25   -0.120393\n",
      "2002-09-26    1.334537\n",
      "Freq: D, Length: 731, dtype: float64\n"
     ]
    }
   ],
   "source": [
    "print(\"\\nDate range-rom 26-9-2001:\\n\",longer_ts[datetime(2000,9,26):])"
   ]
  },
  {
   "cell_type": "code",
   "execution_count": 9,
   "id": "c23efc2b-1d04-406d-ba96-e4aa4f21725a",
   "metadata": {},
   "outputs": [
    {
     "name": "stdout",
     "output_type": "stream",
     "text": [
      "\n",
      "Date range from 26-9-2001 to 25-9-2002: 2001-09-26   -0.863964\n",
      "2001-09-27   -0.381813\n",
      "2001-09-28   -0.700459\n",
      "2001-09-29    0.806065\n",
      "2001-09-30   -0.870848\n",
      "                ...   \n",
      "2002-09-22   -0.576772\n",
      "2002-09-23   -1.074438\n",
      "2002-09-24   -1.087171\n",
      "2002-09-25   -0.120393\n",
      "2002-09-26    1.334537\n",
      "Freq: D, Length: 366, dtype: float64\n"
     ]
    }
   ],
   "source": [
    "print(\"\\nDate range from 26-9-2001 to 25-9-2002:\",longer_ts[datetime(2001,9,26):])"
   ]
  },
  {
   "cell_type": "code",
   "execution_count": null,
   "id": "82834a5f-e181-40d4-94ed-09eb0c93dea3",
   "metadata": {},
   "outputs": [],
   "source": []
  }
 ],
 "metadata": {
  "kernelspec": {
   "display_name": "Python 3 (ipykernel)",
   "language": "python",
   "name": "python3"
  },
  "language_info": {
   "codemirror_mode": {
    "name": "ipython",
    "version": 3
   },
   "file_extension": ".py",
   "mimetype": "text/x-python",
   "name": "python",
   "nbconvert_exporter": "python",
   "pygments_lexer": "ipython3",
   "version": "3.12.7"
  }
 },
 "nbformat": 4,
 "nbformat_minor": 5
}
