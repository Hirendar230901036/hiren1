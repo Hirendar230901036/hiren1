{
 "cells": [
  {
   "cell_type": "code",
   "execution_count": 1,
   "id": "983c7bf7-ea7d-4fce-a092-45ea926cd6ee",
   "metadata": {},
   "outputs": [
    {
     "name": "stdout",
     "output_type": "stream",
     "text": [
      "Date range:\n",
      " DatetimeIndex(['2020-08-15', '2020-08-16', '2020-08-17', '2020-08-18',\n",
      "               '2020-08-19', '2020-08-20', '2020-08-21', '2020-08-22',\n",
      "               '2020-08-23', '2020-08-24', '2020-08-25', '2020-08-26',\n",
      "               '2020-08-27', '2020-08-28', '2020-08-29', '2020-08-30',\n",
      "               '2020-08-31', '2020-09-01'],\n",
      "              dtype='datetime64[ns]', freq='D')\n"
     ]
    }
   ],
   "source": [
    "import pandas as pd\n",
    "import numpy as np\n",
    "from datetime import datetime\n",
    "ran=pd.date_range(\"2020-08-15\",\"2020-09-01\")\n",
    "print(\"Date range:\\n\",ran)"
   ]
  },
  {
   "cell_type": "code",
   "execution_count": 2,
   "id": "a3c960df-c902-48b4-a665-a0be1fc509df",
   "metadata": {},
   "outputs": [
    {
     "name": "stdout",
     "output_type": "stream",
     "text": [
      "\n",
      "Date range with periods and default day frequency:\n",
      " DatetimeIndex(['2020-07-15', '2020-07-16', '2020-07-17', '2020-07-18',\n",
      "               '2020-07-19', '2020-07-20', '2020-07-21', '2020-07-22',\n",
      "               '2020-07-23', '2020-07-24'],\n",
      "              dtype='datetime64[ns]', freq='D')\n"
     ]
    }
   ],
   "source": [
    "ran=pd.date_range(\"2020-07-15\", periods=10)\n",
    "print(\"\\nDate range with periods and default day frequency:\\n\",ran)"
   ]
  },
  {
   "cell_type": "code",
   "execution_count": 3,
   "id": "d310f245-e9ba-4695-b948-3c18af4d3925",
   "metadata": {},
   "outputs": [
    {
     "name": "stdout",
     "output_type": "stream",
     "text": [
      "\n",
      "Date range with periods and hour frequency:\n",
      " DatetimeIndex(['2020-07-15 00:00:00', '2020-07-15 01:00:00',\n",
      "               '2020-07-15 02:00:00', '2020-07-15 03:00:00',\n",
      "               '2020-07-15 04:00:00', '2020-07-15 05:00:00',\n",
      "               '2020-07-15 06:00:00', '2020-07-15 07:00:00',\n",
      "               '2020-07-15 08:00:00', '2020-07-15 09:00:00'],\n",
      "              dtype='datetime64[ns]', freq='h')\n"
     ]
    }
   ],
   "source": [
    "import pandas as pd\n",
    "ran = pd.date_range(\"2020-07-15\", periods=10, freq='h')\n",
    "print(\"\\nDate range with periods and hour frequency:\\n\", ran)"
   ]
  },
  {
   "cell_type": "code",
   "execution_count": 4,
   "id": "4b8bad2f-b95c-4834-8148-592c2b2b4139",
   "metadata": {},
   "outputs": [
    {
     "name": "stdout",
     "output_type": "stream",
     "text": [
      "\n",
      "Date range with periods and month frequency:\n",
      " PeriodIndex(['2020-10', '2020-11', '2020-12', '2021-01', '2021-02', '2021-03',\n",
      "             '2021-04', '2021-05', '2021-06', '2021-07'],\n",
      "            dtype='period[M]')\n"
     ]
    }
   ],
   "source": [
    "ran=pd.period_range(\"2020-10\", periods=10, freq=\"M\")\n",
    "print(\"\\nDate range with periods and month frequency:\\n\",ran)"
   ]
  },
  {
   "cell_type": "code",
   "execution_count": 5,
   "id": "d32e7cff-71ab-411b-ad8e-a4542ced7d92",
   "metadata": {},
   "outputs": [
    {
     "name": "stdout",
     "output_type": "stream",
     "text": [
      "\n",
      "Zero day with hour frequency periods:\n",
      " TimedeltaIndex(['0 days 00:00:00', '0 days 01:00:00', '0 days 02:00:00',\n",
      "                '0 days 03:00:00', '0 days 04:00:00', '0 days 05:00:00',\n",
      "                '0 days 06:00:00', '0 days 07:00:00'],\n",
      "               dtype='timedelta64[ns]', freq='h')\n"
     ]
    }
   ],
   "source": [
    "ran=pd.timedelta_range(0, periods=8, freq=\"h\")\n",
    "print(\"\\nZero day with hour frequency periods:\\n\",ran)"
   ]
  },
  {
   "cell_type": "code",
   "execution_count": null,
   "id": "f2a79f6d-5090-4793-abfa-8c7f89a09d64",
   "metadata": {},
   "outputs": [],
   "source": []
  }
 ],
 "metadata": {
  "kernelspec": {
   "display_name": "Python 3 (ipykernel)",
   "language": "python",
   "name": "python3"
  },
  "language_info": {
   "codemirror_mode": {
    "name": "ipython",
    "version": 3
   },
   "file_extension": ".py",
   "mimetype": "text/x-python",
   "name": "python",
   "nbconvert_exporter": "python",
   "pygments_lexer": "ipython3",
   "version": "3.12.7"
  }
 },
 "nbformat": 4,
 "nbformat_minor": 5
}
